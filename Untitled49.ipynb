{
  "nbformat": 4,
  "nbformat_minor": 0,
  "metadata": {
    "colab": {
      "provenance": [],
      "gpuType": "T4"
    },
    "kernelspec": {
      "name": "python3",
      "display_name": "Python 3"
    },
    "language_info": {
      "name": "python"
    },
    "accelerator": "GPU"
  },
  "cells": [
    {
      "cell_type": "code",
      "execution_count": 5,
      "metadata": {
        "id": "b4y6SzVkcjoH"
      },
      "outputs": [],
      "source": [
        "import pandas as pd\n",
        "import numpy as np\n",
        "import seaborn as sns\n",
        "import matplotlib.pyplot as plt\n",
        "from sklearn.model_selection import train_test_split\n",
        "from sklearn.linear_model import LinearRegression\n",
        "from sklearn.metrics import mean_squared_error,mean_absolute_error,r2_score\n",
        "from sklearn.preprocessing import StandardScaler\n",
        "import tensorflow\n",
        "from tensorflow import keras\n",
        "from keras import layers,losses,metrics,callbacks\n",
        "from keras.models import Sequential,Model\n",
        "from keras.datasets.mnist import load_data"
      ]
    },
    {
      "cell_type": "code",
      "source": [
        "(x_train,y_train),(x_test,y_test)=load_data()"
      ],
      "metadata": {
        "colab": {
          "base_uri": "https://localhost:8080/"
        },
        "id": "lNu7OuNQd0C3",
        "outputId": "7dd43954-aaba-4611-d04b-407622ee3a42"
      },
      "execution_count": 6,
      "outputs": [
        {
          "output_type": "stream",
          "name": "stdout",
          "text": [
            "Downloading data from https://storage.googleapis.com/tensorflow/tf-keras-datasets/mnist.npz\n",
            "\u001b[1m11490434/11490434\u001b[0m \u001b[32m━━━━━━━━━━━━━━━━━━━━\u001b[0m\u001b[37m\u001b[0m \u001b[1m0s\u001b[0m 0us/step\n"
          ]
        }
      ]
    },
    {
      "cell_type": "code",
      "source": [
        "print('Total number of image x_train',len(x_train))\n",
        "print('Total number of image x_test',len(x_test))"
      ],
      "metadata": {
        "colab": {
          "base_uri": "https://localhost:8080/"
        },
        "id": "nDGGUhSQeoIH",
        "outputId": "c172b0ad-3dd9-4754-81dc-5488a38cb17c"
      },
      "execution_count": 7,
      "outputs": [
        {
          "output_type": "stream",
          "name": "stdout",
          "text": [
            "Total number of image x_train 60000\n",
            "Total number of image x_test 10000\n"
          ]
        }
      ]
    },
    {
      "cell_type": "code",
      "source": [
        "x_train[0]"
      ],
      "metadata": {
        "colab": {
          "base_uri": "https://localhost:8080/",
          "height": 69
        },
        "id": "QlNKK5cee1mn",
        "outputId": "27685e4c-c271-4a2d-f2d5-0b0ee2ce93e7"
      },
      "execution_count": 8,
      "outputs": [
        {
          "output_type": "execute_result",
          "data": {
            "text/plain": [
              "array([[  0,   0,   0,   0,   0,   0,   0,   0,   0,   0,   0,   0,   0,\n",
              "          0,   0,   0,   0,   0,   0,   0,   0,   0,   0,   0,   0,   0,\n",
              "          0,   0],\n",
              "       [  0,   0,   0,   0,   0,   0,   0,   0,   0,   0,   0,   0,   0,\n",
              "          0,   0,   0,   0,   0,   0,   0,   0,   0,   0,   0,   0,   0,\n",
              "          0,   0],\n",
              "       [  0,   0,   0,   0,   0,   0,   0,   0,   0,   0,   0,   0,   0,\n",
              "          0,   0,   0,   0,   0,   0,   0,   0,   0,   0,   0,   0,   0,\n",
              "          0,   0],\n",
              "       [  0,   0,   0,   0,   0,   0,   0,   0,   0,   0,   0,   0,   0,\n",
              "          0,   0,   0,   0,   0,   0,   0,   0,   0,   0,   0,   0,   0,\n",
              "          0,   0],\n",
              "       [  0,   0,   0,   0,   0,   0,   0,   0,   0,   0,   0,   0,   0,\n",
              "          0,   0,   0,   0,   0,   0,   0,   0,   0,   0,   0,   0,   0,\n",
              "          0,   0],\n",
              "       [  0,   0,   0,   0,   0,   0,   0,   0,   0,   0,   0,   0,   3,\n",
              "         18,  18,  18, 126, 136, 175,  26, 166, 255, 247, 127,   0,   0,\n",
              "          0,   0],\n",
              "       [  0,   0,   0,   0,   0,   0,   0,   0,  30,  36,  94, 154, 170,\n",
              "        253, 253, 253, 253, 253, 225, 172, 253, 242, 195,  64,   0,   0,\n",
              "          0,   0],\n",
              "       [  0,   0,   0,   0,   0,   0,   0,  49, 238, 253, 253, 253, 253,\n",
              "        253, 253, 253, 253, 251,  93,  82,  82,  56,  39,   0,   0,   0,\n",
              "          0,   0],\n",
              "       [  0,   0,   0,   0,   0,   0,   0,  18, 219, 253, 253, 253, 253,\n",
              "        253, 198, 182, 247, 241,   0,   0,   0,   0,   0,   0,   0,   0,\n",
              "          0,   0],\n",
              "       [  0,   0,   0,   0,   0,   0,   0,   0,  80, 156, 107, 253, 253,\n",
              "        205,  11,   0,  43, 154,   0,   0,   0,   0,   0,   0,   0,   0,\n",
              "          0,   0],\n",
              "       [  0,   0,   0,   0,   0,   0,   0,   0,   0,  14,   1, 154, 253,\n",
              "         90,   0,   0,   0,   0,   0,   0,   0,   0,   0,   0,   0,   0,\n",
              "          0,   0],\n",
              "       [  0,   0,   0,   0,   0,   0,   0,   0,   0,   0,   0, 139, 253,\n",
              "        190,   2,   0,   0,   0,   0,   0,   0,   0,   0,   0,   0,   0,\n",
              "          0,   0],\n",
              "       [  0,   0,   0,   0,   0,   0,   0,   0,   0,   0,   0,  11, 190,\n",
              "        253,  70,   0,   0,   0,   0,   0,   0,   0,   0,   0,   0,   0,\n",
              "          0,   0],\n",
              "       [  0,   0,   0,   0,   0,   0,   0,   0,   0,   0,   0,   0,  35,\n",
              "        241, 225, 160, 108,   1,   0,   0,   0,   0,   0,   0,   0,   0,\n",
              "          0,   0],\n",
              "       [  0,   0,   0,   0,   0,   0,   0,   0,   0,   0,   0,   0,   0,\n",
              "         81, 240, 253, 253, 119,  25,   0,   0,   0,   0,   0,   0,   0,\n",
              "          0,   0],\n",
              "       [  0,   0,   0,   0,   0,   0,   0,   0,   0,   0,   0,   0,   0,\n",
              "          0,  45, 186, 253, 253, 150,  27,   0,   0,   0,   0,   0,   0,\n",
              "          0,   0],\n",
              "       [  0,   0,   0,   0,   0,   0,   0,   0,   0,   0,   0,   0,   0,\n",
              "          0,   0,  16,  93, 252, 253, 187,   0,   0,   0,   0,   0,   0,\n",
              "          0,   0],\n",
              "       [  0,   0,   0,   0,   0,   0,   0,   0,   0,   0,   0,   0,   0,\n",
              "          0,   0,   0,   0, 249, 253, 249,  64,   0,   0,   0,   0,   0,\n",
              "          0,   0],\n",
              "       [  0,   0,   0,   0,   0,   0,   0,   0,   0,   0,   0,   0,   0,\n",
              "          0,  46, 130, 183, 253, 253, 207,   2,   0,   0,   0,   0,   0,\n",
              "          0,   0],\n",
              "       [  0,   0,   0,   0,   0,   0,   0,   0,   0,   0,   0,   0,  39,\n",
              "        148, 229, 253, 253, 253, 250, 182,   0,   0,   0,   0,   0,   0,\n",
              "          0,   0],\n",
              "       [  0,   0,   0,   0,   0,   0,   0,   0,   0,   0,  24, 114, 221,\n",
              "        253, 253, 253, 253, 201,  78,   0,   0,   0,   0,   0,   0,   0,\n",
              "          0,   0],\n",
              "       [  0,   0,   0,   0,   0,   0,   0,   0,  23,  66, 213, 253, 253,\n",
              "        253, 253, 198,  81,   2,   0,   0,   0,   0,   0,   0,   0,   0,\n",
              "          0,   0],\n",
              "       [  0,   0,   0,   0,   0,   0,  18, 171, 219, 253, 253, 253, 253,\n",
              "        195,  80,   9,   0,   0,   0,   0,   0,   0,   0,   0,   0,   0,\n",
              "          0,   0],\n",
              "       [  0,   0,   0,   0,  55, 172, 226, 253, 253, 253, 253, 244, 133,\n",
              "         11,   0,   0,   0,   0,   0,   0,   0,   0,   0,   0,   0,   0,\n",
              "          0,   0],\n",
              "       [  0,   0,   0,   0, 136, 253, 253, 253, 212, 135, 132,  16,   0,\n",
              "          0,   0,   0,   0,   0,   0,   0,   0,   0,   0,   0,   0,   0,\n",
              "          0,   0],\n",
              "       [  0,   0,   0,   0,   0,   0,   0,   0,   0,   0,   0,   0,   0,\n",
              "          0,   0,   0,   0,   0,   0,   0,   0,   0,   0,   0,   0,   0,\n",
              "          0,   0],\n",
              "       [  0,   0,   0,   0,   0,   0,   0,   0,   0,   0,   0,   0,   0,\n",
              "          0,   0,   0,   0,   0,   0,   0,   0,   0,   0,   0,   0,   0,\n",
              "          0,   0],\n",
              "       [  0,   0,   0,   0,   0,   0,   0,   0,   0,   0,   0,   0,   0,\n",
              "          0,   0,   0,   0,   0,   0,   0,   0,   0,   0,   0,   0,   0,\n",
              "          0,   0]], dtype=uint8)"
            ],
            "text/html": [
              "<style>\n",
              "      .ndarray_repr .ndarray_raw_data {\n",
              "        display: none;\n",
              "      }\n",
              "      .ndarray_repr.show_array .ndarray_raw_data {\n",
              "        display: block;\n",
              "      }\n",
              "      .ndarray_repr.show_array .ndarray_image_preview {\n",
              "        display: none;\n",
              "      }\n",
              "      </style>\n",
              "      <div id=\"id-2d15c8f2-65e2-4584-b19a-c97427f748c8\" class=\"ndarray_repr\"><pre>ndarray (28, 28) <button style=\"padding: 0 2px;\">show data</button></pre><img src=\"data:image/png;base64,iVBORw0KGgoAAAANSUhEUgAAABwAAAAcCAAAAABXZoBIAAABAElEQVR4nGNgGMyAWUhIqK5jvdSy/9/rGRgYGFhgEnJsVjYCwQwMDAxPJgV+vniQgYGBgREqZ7iXH8r6l/SV4dn7m8gmCt3++/fv37/Htn3/iMW+gDnZf/+e5WbQnoXNNXyMs/5GoQoxwVmf/n9kSGFiwAW49/11wynJoPzx4YIcRlyygR/+/i2XxCWru+vv32nSuGQFYv/83Y3b4p9/fzpAmSyoMnohpiwM1w5h06Q+5enfv39/bcMiJVF09+/fv39P+mFKiTtd/fv3799jgZiBJLT69t+/f/8eDuDEkDJf8+jv379/v7Ryo4qzMDAwMAQGMjBc3/y35wM2V1IfAABFF16Aa0wAOwAAAABJRU5ErkJggg==\" class=\"ndarray_image_preview\" /><pre class=\"ndarray_raw_data\">array([[  0,   0,   0,   0,   0,   0,   0,   0,   0,   0,   0,   0,   0,\n",
              "          0,   0,   0,   0,   0,   0,   0,   0,   0,   0,   0,   0,   0,\n",
              "          0,   0],\n",
              "       [  0,   0,   0,   0,   0,   0,   0,   0,   0,   0,   0,   0,   0,\n",
              "          0,   0,   0,   0,   0,   0,   0,   0,   0,   0,   0,   0,   0,\n",
              "          0,   0],\n",
              "       [  0,   0,   0,   0,   0,   0,   0,   0,   0,   0,   0,   0,   0,\n",
              "          0,   0,   0,   0,   0,   0,   0,   0,   0,   0,   0,   0,   0,\n",
              "          0,   0],\n",
              "       [  0,   0,   0,   0,   0,   0,   0,   0,   0,   0,   0,   0,   0,\n",
              "          0,   0,   0,   0,   0,   0,   0,   0,   0,   0,   0,   0,   0,\n",
              "          0,   0],\n",
              "       [  0,   0,   0,   0,   0,   0,   0,   0,   0,   0,   0,   0,   0,\n",
              "          0,   0,   0,   0,   0,   0,   0,   0,   0,   0,   0,   0,   0,\n",
              "          0,   0],\n",
              "       [  0,   0,   0,   0,   0,   0,   0,   0,   0,   0,   0,   0,   3,\n",
              "         18,  18,  18, 126, 136, 175,  26, 166, 255, 247, 127,   0,   0,\n",
              "          0,   0],\n",
              "       [  0,   0,   0,   0,   0,   0,   0,   0,  30,  36,  94, 154, 170,\n",
              "        253, 253, 253, 253, 253, 225, 172, 253, 242, 195,  64,   0,   0,\n",
              "          0,   0],\n",
              "       [  0,   0,   0,   0,   0,   0,   0,  49, 238, 253, 253, 253, 253,\n",
              "        253, 253, 253, 253, 251,  93,  82,  82,  56,  39,   0,   0,   0,\n",
              "          0,   0],\n",
              "       [  0,   0,   0,   0,   0,   0,   0,  18, 219, 253, 253, 253, 253,\n",
              "        253, 198, 182, 247, 241,   0,   0,   0,   0,   0,   0,   0,   0,\n",
              "          0,   0],\n",
              "       [  0,   0,   0,   0,   0,   0,   0,   0,  80, 156, 107, 253, 253,\n",
              "        205,  11,   0,  43, 154,   0,   0,   0,   0,   0,   0,   0,   0,\n",
              "          0,   0],\n",
              "       [  0,   0,   0,   0,   0,   0,   0,   0,   0,  14,   1, 154, 253,\n",
              "         90,   0,   0,   0,   0,   0,   0,   0,   0,   0,   0,   0,   0,\n",
              "          0,   0],\n",
              "       [  0,   0,   0,   0,   0,   0,   0,   0,   0,   0,   0, 139, 253,\n",
              "        190,   2,   0,   0,   0,   0,   0,   0,   0,   0,   0,   0,   0,\n",
              "          0,   0],\n",
              "       [  0,   0,   0,   0,   0,   0,   0,   0,   0,   0,   0,  11, 190,\n",
              "        253,  70,   0,   0,   0,   0,   0,   0,   0,   0,   0,   0,   0,\n",
              "          0,   0],\n",
              "       [  0,   0,   0,   0,   0,   0,   0,   0,   0,   0,   0,   0,  35,\n",
              "        241, 225, 160, 108,   1,   0,   0,   0,   0,   0,   0,   0,   0,\n",
              "          0,   0],\n",
              "       [  0,   0,   0,   0,   0,   0,   0,   0,   0,   0,   0,   0,   0,\n",
              "         81, 240, 253, 253, 119,  25,   0,   0,   0,   0,   0,   0,   0,\n",
              "          0,   0],\n",
              "       [  0,   0,   0,   0,   0,   0,   0,   0,   0,   0,   0,   0,   0,\n",
              "          0,  45, 186, 253, 253, 150,  27,   0,   0,   0,   0,   0,   0,\n",
              "          0,   0],\n",
              "       [  0,   0,   0,   0,   0,   0,   0,   0,   0,   0,   0,   0,   0,\n",
              "          0,   0,  16,  93, 252, 253, 187,   0,   0,   0,   0,   0,   0,\n",
              "          0,   0],\n",
              "       [  0,   0,   0,   0,   0,   0,   0,   0,   0,   0,   0,   0,   0,\n",
              "          0,   0,   0,   0, 249, 253, 249,  64,   0,   0,   0,   0,   0,\n",
              "          0,   0],\n",
              "       [  0,   0,   0,   0,   0,   0,   0,   0,   0,   0,   0,   0,   0,\n",
              "          0,  46, 130, 183, 253, 253, 207,   2,   0,   0,   0,   0,   0,\n",
              "          0,   0],\n",
              "       [  0,   0,   0,   0,   0,   0,   0,   0,   0,   0,   0,   0,  39,\n",
              "        148, 229, 253, 253, 253, 250, 182,   0,   0,   0,   0,   0,   0,\n",
              "          0,   0],\n",
              "       [  0,   0,   0,   0,   0,   0,   0,   0,   0,   0,  24, 114, 221,\n",
              "        253, 253, 253, 253, 201,  78,   0,   0,   0,   0,   0,   0,   0,\n",
              "          0,   0],\n",
              "       [  0,   0,   0,   0,   0,   0,   0,   0,  23,  66, 213, 253, 253,\n",
              "        253, 253, 198,  81,   2,   0,   0,   0,   0,   0,   0,   0,   0,\n",
              "          0,   0],\n",
              "       [  0,   0,   0,   0,   0,   0,  18, 171, 219, 253, 253, 253, 253,\n",
              "        195,  80,   9,   0,   0,   0,   0,   0,   0,   0,   0,   0,   0,\n",
              "          0,   0],\n",
              "       [  0,   0,   0,   0,  55, 172, 226, 253, 253, 253, 253, 244, 133,\n",
              "         11,   0,   0,   0,   0,   0,   0,   0,   0,   0,   0,   0,   0,\n",
              "          0,   0],\n",
              "       [  0,   0,   0,   0, 136, 253, 253, 253, 212, 135, 132,  16,   0,\n",
              "          0,   0,   0,   0,   0,   0,   0,   0,   0,   0,   0,   0,   0,\n",
              "          0,   0],\n",
              "       [  0,   0,   0,   0,   0,   0,   0,   0,   0,   0,   0,   0,   0,\n",
              "          0,   0,   0,   0,   0,   0,   0,   0,   0,   0,   0,   0,   0,\n",
              "          0,   0],\n",
              "       [  0,   0,   0,   0,   0,   0,   0,   0,   0,   0,   0,   0,   0,\n",
              "          0,   0,   0,   0,   0,   0,   0,   0,   0,   0,   0,   0,   0,\n",
              "          0,   0],\n",
              "       [  0,   0,   0,   0,   0,   0,   0,   0,   0,   0,   0,   0,   0,\n",
              "          0,   0,   0,   0,   0,   0,   0,   0,   0,   0,   0,   0,   0,\n",
              "          0,   0]], dtype=uint8)</pre></div><script>\n",
              "      (() => {\n",
              "      const titles = ['show data', 'hide data'];\n",
              "      let index = 0\n",
              "      document.querySelector('#id-2d15c8f2-65e2-4584-b19a-c97427f748c8 button').onclick = (e) => {\n",
              "        document.querySelector('#id-2d15c8f2-65e2-4584-b19a-c97427f748c8').classList.toggle('show_array');\n",
              "        index = (++index) % 2;\n",
              "        document.querySelector('#id-2d15c8f2-65e2-4584-b19a-c97427f748c8 button').textContent = titles[index];\n",
              "        e.preventDefault();\n",
              "        e.stopPropagation();\n",
              "      }\n",
              "      })();\n",
              "    </script>"
            ]
          },
          "metadata": {},
          "execution_count": 8
        }
      ]
    },
    {
      "cell_type": "code",
      "source": [
        "model=Sequential()\n",
        "model.add(layers.Flatten(input_shape=(28,28)))\n",
        "model.add(layers.Dense(500,activation='relu'))\n",
        "model.add(layers.Dense(200,activation='relu'))\n",
        "model.add(layers.Dense(100,activation='relu'))\n",
        "model.add(layers.Dense(10,activation='relu'))\n",
        "model.add(layers.Dense(100,activation='relu'))\n",
        "model.add(layers.Dense(200,activation='relu'))\n",
        "model.add(layers.Dense(500,activation='relu'))\n",
        "model.add(layers.Dense(784))\n",
        "model.add(layers.Reshape((28,28)))\n",
        "\n",
        "model.compile(optimizer='adam',loss='mse',metrics=['mae'])"
      ],
      "metadata": {
        "id": "vdbUFz8ufCOF"
      },
      "execution_count": 45,
      "outputs": []
    },
    {
      "cell_type": "code",
      "source": [
        "model.summary()"
      ],
      "metadata": {
        "colab": {
          "base_uri": "https://localhost:8080/",
          "height": 449
        },
        "id": "MeIT3m9zgc9R",
        "outputId": "5a8c2c31-0fa3-4806-912e-234a5fd6004f"
      },
      "execution_count": 46,
      "outputs": [
        {
          "output_type": "display_data",
          "data": {
            "text/plain": [
              "\u001b[1mModel: \"sequential_13\"\u001b[0m\n"
            ],
            "text/html": [
              "<pre style=\"white-space:pre;overflow-x:auto;line-height:normal;font-family:Menlo,'DejaVu Sans Mono',consolas,'Courier New',monospace\"><span style=\"font-weight: bold\">Model: \"sequential_13\"</span>\n",
              "</pre>\n"
            ]
          },
          "metadata": {}
        },
        {
          "output_type": "display_data",
          "data": {
            "text/plain": [
              "┏━━━━━━━━━━━━━━━━━━━━━━━━━━━━━━━━━━━━━━┳━━━━━━━━━━━━━━━━━━━━━━━━━━━━━┳━━━━━━━━━━━━━━━━━┓\n",
              "┃\u001b[1m \u001b[0m\u001b[1mLayer (type)                        \u001b[0m\u001b[1m \u001b[0m┃\u001b[1m \u001b[0m\u001b[1mOutput Shape               \u001b[0m\u001b[1m \u001b[0m┃\u001b[1m \u001b[0m\u001b[1m        Param #\u001b[0m\u001b[1m \u001b[0m┃\n",
              "┡━━━━━━━━━━━━━━━━━━━━━━━━━━━━━━━━━━━━━━╇━━━━━━━━━━━━━━━━━━━━━━━━━━━━━╇━━━━━━━━━━━━━━━━━┩\n",
              "│ flatten_13 (\u001b[38;5;33mFlatten\u001b[0m)                 │ (\u001b[38;5;45mNone\u001b[0m, \u001b[38;5;34m784\u001b[0m)                 │               \u001b[38;5;34m0\u001b[0m │\n",
              "├──────────────────────────────────────┼─────────────────────────────┼─────────────────┤\n",
              "│ dense_104 (\u001b[38;5;33mDense\u001b[0m)                    │ (\u001b[38;5;45mNone\u001b[0m, \u001b[38;5;34m500\u001b[0m)                 │         \u001b[38;5;34m392,500\u001b[0m │\n",
              "├──────────────────────────────────────┼─────────────────────────────┼─────────────────┤\n",
              "│ dense_105 (\u001b[38;5;33mDense\u001b[0m)                    │ (\u001b[38;5;45mNone\u001b[0m, \u001b[38;5;34m200\u001b[0m)                 │         \u001b[38;5;34m100,200\u001b[0m │\n",
              "├──────────────────────────────────────┼─────────────────────────────┼─────────────────┤\n",
              "│ dense_106 (\u001b[38;5;33mDense\u001b[0m)                    │ (\u001b[38;5;45mNone\u001b[0m, \u001b[38;5;34m100\u001b[0m)                 │          \u001b[38;5;34m20,100\u001b[0m │\n",
              "├──────────────────────────────────────┼─────────────────────────────┼─────────────────┤\n",
              "│ dense_107 (\u001b[38;5;33mDense\u001b[0m)                    │ (\u001b[38;5;45mNone\u001b[0m, \u001b[38;5;34m10\u001b[0m)                  │           \u001b[38;5;34m1,010\u001b[0m │\n",
              "├──────────────────────────────────────┼─────────────────────────────┼─────────────────┤\n",
              "│ dense_108 (\u001b[38;5;33mDense\u001b[0m)                    │ (\u001b[38;5;45mNone\u001b[0m, \u001b[38;5;34m100\u001b[0m)                 │           \u001b[38;5;34m1,100\u001b[0m │\n",
              "├──────────────────────────────────────┼─────────────────────────────┼─────────────────┤\n",
              "│ dense_109 (\u001b[38;5;33mDense\u001b[0m)                    │ (\u001b[38;5;45mNone\u001b[0m, \u001b[38;5;34m200\u001b[0m)                 │          \u001b[38;5;34m20,200\u001b[0m │\n",
              "├──────────────────────────────────────┼─────────────────────────────┼─────────────────┤\n",
              "│ dense_110 (\u001b[38;5;33mDense\u001b[0m)                    │ (\u001b[38;5;45mNone\u001b[0m, \u001b[38;5;34m500\u001b[0m)                 │         \u001b[38;5;34m100,500\u001b[0m │\n",
              "├──────────────────────────────────────┼─────────────────────────────┼─────────────────┤\n",
              "│ dense_111 (\u001b[38;5;33mDense\u001b[0m)                    │ (\u001b[38;5;45mNone\u001b[0m, \u001b[38;5;34m784\u001b[0m)                 │         \u001b[38;5;34m392,784\u001b[0m │\n",
              "├──────────────────────────────────────┼─────────────────────────────┼─────────────────┤\n",
              "│ reshape_7 (\u001b[38;5;33mReshape\u001b[0m)                  │ (\u001b[38;5;45mNone\u001b[0m, \u001b[38;5;34m28\u001b[0m, \u001b[38;5;34m28\u001b[0m)              │               \u001b[38;5;34m0\u001b[0m │\n",
              "└──────────────────────────────────────┴─────────────────────────────┴─────────────────┘\n"
            ],
            "text/html": [
              "<pre style=\"white-space:pre;overflow-x:auto;line-height:normal;font-family:Menlo,'DejaVu Sans Mono',consolas,'Courier New',monospace\">┏━━━━━━━━━━━━━━━━━━━━━━━━━━━━━━━━━━━━━━┳━━━━━━━━━━━━━━━━━━━━━━━━━━━━━┳━━━━━━━━━━━━━━━━━┓\n",
              "┃<span style=\"font-weight: bold\"> Layer (type)                         </span>┃<span style=\"font-weight: bold\"> Output Shape                </span>┃<span style=\"font-weight: bold\">         Param # </span>┃\n",
              "┡━━━━━━━━━━━━━━━━━━━━━━━━━━━━━━━━━━━━━━╇━━━━━━━━━━━━━━━━━━━━━━━━━━━━━╇━━━━━━━━━━━━━━━━━┩\n",
              "│ flatten_13 (<span style=\"color: #0087ff; text-decoration-color: #0087ff\">Flatten</span>)                 │ (<span style=\"color: #00d7ff; text-decoration-color: #00d7ff\">None</span>, <span style=\"color: #00af00; text-decoration-color: #00af00\">784</span>)                 │               <span style=\"color: #00af00; text-decoration-color: #00af00\">0</span> │\n",
              "├──────────────────────────────────────┼─────────────────────────────┼─────────────────┤\n",
              "│ dense_104 (<span style=\"color: #0087ff; text-decoration-color: #0087ff\">Dense</span>)                    │ (<span style=\"color: #00d7ff; text-decoration-color: #00d7ff\">None</span>, <span style=\"color: #00af00; text-decoration-color: #00af00\">500</span>)                 │         <span style=\"color: #00af00; text-decoration-color: #00af00\">392,500</span> │\n",
              "├──────────────────────────────────────┼─────────────────────────────┼─────────────────┤\n",
              "│ dense_105 (<span style=\"color: #0087ff; text-decoration-color: #0087ff\">Dense</span>)                    │ (<span style=\"color: #00d7ff; text-decoration-color: #00d7ff\">None</span>, <span style=\"color: #00af00; text-decoration-color: #00af00\">200</span>)                 │         <span style=\"color: #00af00; text-decoration-color: #00af00\">100,200</span> │\n",
              "├──────────────────────────────────────┼─────────────────────────────┼─────────────────┤\n",
              "│ dense_106 (<span style=\"color: #0087ff; text-decoration-color: #0087ff\">Dense</span>)                    │ (<span style=\"color: #00d7ff; text-decoration-color: #00d7ff\">None</span>, <span style=\"color: #00af00; text-decoration-color: #00af00\">100</span>)                 │          <span style=\"color: #00af00; text-decoration-color: #00af00\">20,100</span> │\n",
              "├──────────────────────────────────────┼─────────────────────────────┼─────────────────┤\n",
              "│ dense_107 (<span style=\"color: #0087ff; text-decoration-color: #0087ff\">Dense</span>)                    │ (<span style=\"color: #00d7ff; text-decoration-color: #00d7ff\">None</span>, <span style=\"color: #00af00; text-decoration-color: #00af00\">10</span>)                  │           <span style=\"color: #00af00; text-decoration-color: #00af00\">1,010</span> │\n",
              "├──────────────────────────────────────┼─────────────────────────────┼─────────────────┤\n",
              "│ dense_108 (<span style=\"color: #0087ff; text-decoration-color: #0087ff\">Dense</span>)                    │ (<span style=\"color: #00d7ff; text-decoration-color: #00d7ff\">None</span>, <span style=\"color: #00af00; text-decoration-color: #00af00\">100</span>)                 │           <span style=\"color: #00af00; text-decoration-color: #00af00\">1,100</span> │\n",
              "├──────────────────────────────────────┼─────────────────────────────┼─────────────────┤\n",
              "│ dense_109 (<span style=\"color: #0087ff; text-decoration-color: #0087ff\">Dense</span>)                    │ (<span style=\"color: #00d7ff; text-decoration-color: #00d7ff\">None</span>, <span style=\"color: #00af00; text-decoration-color: #00af00\">200</span>)                 │          <span style=\"color: #00af00; text-decoration-color: #00af00\">20,200</span> │\n",
              "├──────────────────────────────────────┼─────────────────────────────┼─────────────────┤\n",
              "│ dense_110 (<span style=\"color: #0087ff; text-decoration-color: #0087ff\">Dense</span>)                    │ (<span style=\"color: #00d7ff; text-decoration-color: #00d7ff\">None</span>, <span style=\"color: #00af00; text-decoration-color: #00af00\">500</span>)                 │         <span style=\"color: #00af00; text-decoration-color: #00af00\">100,500</span> │\n",
              "├──────────────────────────────────────┼─────────────────────────────┼─────────────────┤\n",
              "│ dense_111 (<span style=\"color: #0087ff; text-decoration-color: #0087ff\">Dense</span>)                    │ (<span style=\"color: #00d7ff; text-decoration-color: #00d7ff\">None</span>, <span style=\"color: #00af00; text-decoration-color: #00af00\">784</span>)                 │         <span style=\"color: #00af00; text-decoration-color: #00af00\">392,784</span> │\n",
              "├──────────────────────────────────────┼─────────────────────────────┼─────────────────┤\n",
              "│ reshape_7 (<span style=\"color: #0087ff; text-decoration-color: #0087ff\">Reshape</span>)                  │ (<span style=\"color: #00d7ff; text-decoration-color: #00d7ff\">None</span>, <span style=\"color: #00af00; text-decoration-color: #00af00\">28</span>, <span style=\"color: #00af00; text-decoration-color: #00af00\">28</span>)              │               <span style=\"color: #00af00; text-decoration-color: #00af00\">0</span> │\n",
              "└──────────────────────────────────────┴─────────────────────────────┴─────────────────┘\n",
              "</pre>\n"
            ]
          },
          "metadata": {}
        },
        {
          "output_type": "display_data",
          "data": {
            "text/plain": [
              "\u001b[1m Total params: \u001b[0m\u001b[38;5;34m1,028,394\u001b[0m (3.92 MB)\n"
            ],
            "text/html": [
              "<pre style=\"white-space:pre;overflow-x:auto;line-height:normal;font-family:Menlo,'DejaVu Sans Mono',consolas,'Courier New',monospace\"><span style=\"font-weight: bold\"> Total params: </span><span style=\"color: #00af00; text-decoration-color: #00af00\">1,028,394</span> (3.92 MB)\n",
              "</pre>\n"
            ]
          },
          "metadata": {}
        },
        {
          "output_type": "display_data",
          "data": {
            "text/plain": [
              "\u001b[1m Trainable params: \u001b[0m\u001b[38;5;34m1,028,394\u001b[0m (3.92 MB)\n"
            ],
            "text/html": [
              "<pre style=\"white-space:pre;overflow-x:auto;line-height:normal;font-family:Menlo,'DejaVu Sans Mono',consolas,'Courier New',monospace\"><span style=\"font-weight: bold\"> Trainable params: </span><span style=\"color: #00af00; text-decoration-color: #00af00\">1,028,394</span> (3.92 MB)\n",
              "</pre>\n"
            ]
          },
          "metadata": {}
        },
        {
          "output_type": "display_data",
          "data": {
            "text/plain": [
              "\u001b[1m Non-trainable params: \u001b[0m\u001b[38;5;34m0\u001b[0m (0.00 B)\n"
            ],
            "text/html": [
              "<pre style=\"white-space:pre;overflow-x:auto;line-height:normal;font-family:Menlo,'DejaVu Sans Mono',consolas,'Courier New',monospace\"><span style=\"font-weight: bold\"> Non-trainable params: </span><span style=\"color: #00af00; text-decoration-color: #00af00\">0</span> (0.00 B)\n",
              "</pre>\n"
            ]
          },
          "metadata": {}
        }
      ]
    },
    {
      "cell_type": "markdown",
      "source": [],
      "metadata": {
        "id": "tpzHARsBlqNR"
      }
    },
    {
      "cell_type": "code",
      "source": [
        "model.fit(x_train,x_train,epochs=100,batch_size=32)"
      ],
      "metadata": {
        "colab": {
          "base_uri": "https://localhost:8080/"
        },
        "id": "tXJx-9Jvgj9w",
        "outputId": "d0d86f48-5b4d-4768-b35b-902c6db16bea"
      },
      "execution_count": 60,
      "outputs": [
        {
          "output_type": "stream",
          "name": "stdout",
          "text": [
            "Epoch 1/100\n",
            "\u001b[1m1875/1875\u001b[0m \u001b[32m━━━━━━━━━━━━━━━━━━━━\u001b[0m\u001b[37m\u001b[0m \u001b[1m8s\u001b[0m 4ms/step - loss: 1150.5138 - mae: 16.6660\n",
            "Epoch 2/100\n",
            "\u001b[1m1875/1875\u001b[0m \u001b[32m━━━━━━━━━━━━━━━━━━━━\u001b[0m\u001b[37m\u001b[0m \u001b[1m8s\u001b[0m 3ms/step - loss: 1117.1571 - mae: 16.3528\n",
            "Epoch 3/100\n",
            "\u001b[1m1875/1875\u001b[0m \u001b[32m━━━━━━━━━━━━━━━━━━━━\u001b[0m\u001b[37m\u001b[0m \u001b[1m6s\u001b[0m 3ms/step - loss: 1091.6008 - mae: 16.1166\n",
            "Epoch 4/100\n",
            "\u001b[1m1875/1875\u001b[0m \u001b[32m━━━━━━━━━━━━━━━━━━━━\u001b[0m\u001b[37m\u001b[0m \u001b[1m5s\u001b[0m 3ms/step - loss: 1073.7716 - mae: 15.9100\n",
            "Epoch 5/100\n",
            "\u001b[1m1875/1875\u001b[0m \u001b[32m━━━━━━━━━━━━━━━━━━━━\u001b[0m\u001b[37m\u001b[0m \u001b[1m6s\u001b[0m 3ms/step - loss: 1055.5818 - mae: 15.7269\n",
            "Epoch 6/100\n",
            "\u001b[1m1875/1875\u001b[0m \u001b[32m━━━━━━━━━━━━━━━━━━━━\u001b[0m\u001b[37m\u001b[0m \u001b[1m5s\u001b[0m 2ms/step - loss: 1039.9419 - mae: 15.5707\n",
            "Epoch 7/100\n",
            "\u001b[1m1875/1875\u001b[0m \u001b[32m━━━━━━━━━━━━━━━━━━━━\u001b[0m\u001b[37m\u001b[0m \u001b[1m5s\u001b[0m 3ms/step - loss: 1031.1180 - mae: 15.4645\n",
            "Epoch 8/100\n",
            "\u001b[1m1875/1875\u001b[0m \u001b[32m━━━━━━━━━━━━━━━━━━━━\u001b[0m\u001b[37m\u001b[0m \u001b[1m6s\u001b[0m 3ms/step - loss: 1016.6227 - mae: 15.3159\n",
            "Epoch 9/100\n",
            "\u001b[1m1875/1875\u001b[0m \u001b[32m━━━━━━━━━━━━━━━━━━━━\u001b[0m\u001b[37m\u001b[0m \u001b[1m11s\u001b[0m 3ms/step - loss: 1010.7768 - mae: 15.2451\n",
            "Epoch 10/100\n",
            "\u001b[1m1875/1875\u001b[0m \u001b[32m━━━━━━━━━━━━━━━━━━━━\u001b[0m\u001b[37m\u001b[0m \u001b[1m9s\u001b[0m 3ms/step - loss: 1005.6241 - mae: 15.1786\n",
            "Epoch 11/100\n",
            "\u001b[1m1875/1875\u001b[0m \u001b[32m━━━━━━━━━━━━━━━━━━━━\u001b[0m\u001b[37m\u001b[0m \u001b[1m6s\u001b[0m 3ms/step - loss: 995.5576 - mae: 15.0576\n",
            "Epoch 12/100\n",
            "\u001b[1m1875/1875\u001b[0m \u001b[32m━━━━━━━━━━━━━━━━━━━━\u001b[0m\u001b[37m\u001b[0m \u001b[1m5s\u001b[0m 3ms/step - loss: 986.1688 - mae: 14.9740\n",
            "Epoch 13/100\n",
            "\u001b[1m1875/1875\u001b[0m \u001b[32m━━━━━━━━━━━━━━━━━━━━\u001b[0m\u001b[37m\u001b[0m \u001b[1m5s\u001b[0m 3ms/step - loss: 979.4055 - mae: 14.8825\n",
            "Epoch 14/100\n",
            "\u001b[1m1875/1875\u001b[0m \u001b[32m━━━━━━━━━━━━━━━━━━━━\u001b[0m\u001b[37m\u001b[0m \u001b[1m5s\u001b[0m 3ms/step - loss: 973.6020 - mae: 14.8288\n",
            "Epoch 15/100\n",
            "\u001b[1m1875/1875\u001b[0m \u001b[32m━━━━━━━━━━━━━━━━━━━━\u001b[0m\u001b[37m\u001b[0m \u001b[1m5s\u001b[0m 3ms/step - loss: 970.5364 - mae: 14.7763\n",
            "Epoch 16/100\n",
            "\u001b[1m1875/1875\u001b[0m \u001b[32m━━━━━━━━━━━━━━━━━━━━\u001b[0m\u001b[37m\u001b[0m \u001b[1m6s\u001b[0m 3ms/step - loss: 961.1163 - mae: 14.6896\n",
            "Epoch 17/100\n",
            "\u001b[1m1875/1875\u001b[0m \u001b[32m━━━━━━━━━━━━━━━━━━━━\u001b[0m\u001b[37m\u001b[0m \u001b[1m10s\u001b[0m 3ms/step - loss: 956.4236 - mae: 14.6313\n",
            "Epoch 18/100\n",
            "\u001b[1m1875/1875\u001b[0m \u001b[32m━━━━━━━━━━━━━━━━━━━━\u001b[0m\u001b[37m\u001b[0m \u001b[1m10s\u001b[0m 3ms/step - loss: 957.0065 - mae: 14.6144\n",
            "Epoch 19/100\n",
            "\u001b[1m1875/1875\u001b[0m \u001b[32m━━━━━━━━━━━━━━━━━━━━\u001b[0m\u001b[37m\u001b[0m \u001b[1m6s\u001b[0m 3ms/step - loss: 949.1291 - mae: 14.5424\n",
            "Epoch 20/100\n",
            "\u001b[1m1875/1875\u001b[0m \u001b[32m━━━━━━━━━━━━━━━━━━━━\u001b[0m\u001b[37m\u001b[0m \u001b[1m10s\u001b[0m 3ms/step - loss: 945.9703 - mae: 14.4993\n",
            "Epoch 21/100\n",
            "\u001b[1m1875/1875\u001b[0m \u001b[32m━━━━━━━━━━━━━━━━━━━━\u001b[0m\u001b[37m\u001b[0m \u001b[1m10s\u001b[0m 3ms/step - loss: 942.1923 - mae: 14.4503\n",
            "Epoch 22/100\n",
            "\u001b[1m1875/1875\u001b[0m \u001b[32m━━━━━━━━━━━━━━━━━━━━\u001b[0m\u001b[37m\u001b[0m \u001b[1m6s\u001b[0m 3ms/step - loss: 939.0496 - mae: 14.4168\n",
            "Epoch 23/100\n",
            "\u001b[1m1875/1875\u001b[0m \u001b[32m━━━━━━━━━━━━━━━━━━━━\u001b[0m\u001b[37m\u001b[0m \u001b[1m5s\u001b[0m 3ms/step - loss: 935.3675 - mae: 14.3662\n",
            "Epoch 24/100\n",
            "\u001b[1m1875/1875\u001b[0m \u001b[32m━━━━━━━━━━━━━━━━━━━━\u001b[0m\u001b[37m\u001b[0m \u001b[1m6s\u001b[0m 3ms/step - loss: 935.9950 - mae: 14.3715\n",
            "Epoch 25/100\n",
            "\u001b[1m1875/1875\u001b[0m \u001b[32m━━━━━━━━━━━━━━━━━━━━\u001b[0m\u001b[37m\u001b[0m \u001b[1m5s\u001b[0m 3ms/step - loss: 929.2609 - mae: 14.3056\n",
            "Epoch 26/100\n",
            "\u001b[1m1875/1875\u001b[0m \u001b[32m━━━━━━━━━━━━━━━━━━━━\u001b[0m\u001b[37m\u001b[0m \u001b[1m5s\u001b[0m 3ms/step - loss: 924.6305 - mae: 14.2506\n",
            "Epoch 27/100\n",
            "\u001b[1m1875/1875\u001b[0m \u001b[32m━━━━━━━━━━━━━━━━━━━━\u001b[0m\u001b[37m\u001b[0m \u001b[1m6s\u001b[0m 3ms/step - loss: 925.3278 - mae: 14.2494\n",
            "Epoch 28/100\n",
            "\u001b[1m1875/1875\u001b[0m \u001b[32m━━━━━━━━━━━━━━━━━━━━\u001b[0m\u001b[37m\u001b[0m \u001b[1m10s\u001b[0m 3ms/step - loss: 920.3366 - mae: 14.1974\n",
            "Epoch 29/100\n",
            "\u001b[1m1875/1875\u001b[0m \u001b[32m━━━━━━━━━━━━━━━━━━━━\u001b[0m\u001b[37m\u001b[0m \u001b[1m10s\u001b[0m 3ms/step - loss: 916.2947 - mae: 14.1538\n",
            "Epoch 30/100\n",
            "\u001b[1m1875/1875\u001b[0m \u001b[32m━━━━━━━━━━━━━━━━━━━━\u001b[0m\u001b[37m\u001b[0m \u001b[1m6s\u001b[0m 3ms/step - loss: 914.3953 - mae: 14.1267\n",
            "Epoch 31/100\n",
            "\u001b[1m1875/1875\u001b[0m \u001b[32m━━━━━━━━━━━━━━━━━━━━\u001b[0m\u001b[37m\u001b[0m \u001b[1m6s\u001b[0m 3ms/step - loss: 911.2604 - mae: 14.1133\n",
            "Epoch 32/100\n",
            "\u001b[1m1875/1875\u001b[0m \u001b[32m━━━━━━━━━━━━━━━━━━━━\u001b[0m\u001b[37m\u001b[0m \u001b[1m9s\u001b[0m 3ms/step - loss: 911.5754 - mae: 14.0860\n",
            "Epoch 33/100\n",
            "\u001b[1m1875/1875\u001b[0m \u001b[32m━━━━━━━━━━━━━━━━━━━━\u001b[0m\u001b[37m\u001b[0m \u001b[1m11s\u001b[0m 3ms/step - loss: 909.1316 - mae: 14.0647\n",
            "Epoch 34/100\n",
            "\u001b[1m1875/1875\u001b[0m \u001b[32m━━━━━━━━━━━━━━━━━━━━\u001b[0m\u001b[37m\u001b[0m \u001b[1m10s\u001b[0m 3ms/step - loss: 905.5248 - mae: 14.0260\n",
            "Epoch 35/100\n",
            "\u001b[1m1875/1875\u001b[0m \u001b[32m━━━━━━━━━━━━━━━━━━━━\u001b[0m\u001b[37m\u001b[0m \u001b[1m5s\u001b[0m 3ms/step - loss: 908.2520 - mae: 14.0468\n",
            "Epoch 36/100\n",
            "\u001b[1m1875/1875\u001b[0m \u001b[32m━━━━━━━━━━━━━━━━━━━━\u001b[0m\u001b[37m\u001b[0m \u001b[1m5s\u001b[0m 3ms/step - loss: 902.0724 - mae: 13.9787\n",
            "Epoch 37/100\n",
            "\u001b[1m1875/1875\u001b[0m \u001b[32m━━━━━━━━━━━━━━━━━━━━\u001b[0m\u001b[37m\u001b[0m \u001b[1m6s\u001b[0m 3ms/step - loss: 903.3255 - mae: 13.9950\n",
            "Epoch 38/100\n",
            "\u001b[1m1875/1875\u001b[0m \u001b[32m━━━━━━━━━━━━━━━━━━━━\u001b[0m\u001b[37m\u001b[0m \u001b[1m5s\u001b[0m 3ms/step - loss: 898.0669 - mae: 13.9331\n",
            "Epoch 39/100\n",
            "\u001b[1m1875/1875\u001b[0m \u001b[32m━━━━━━━━━━━━━━━━━━━━\u001b[0m\u001b[37m\u001b[0m \u001b[1m6s\u001b[0m 3ms/step - loss: 895.6252 - mae: 13.9077\n",
            "Epoch 40/100\n",
            "\u001b[1m1875/1875\u001b[0m \u001b[32m━━━━━━━━━━━━━━━━━━━━\u001b[0m\u001b[37m\u001b[0m \u001b[1m5s\u001b[0m 3ms/step - loss: 892.4996 - mae: 13.8787\n",
            "Epoch 41/100\n",
            "\u001b[1m1875/1875\u001b[0m \u001b[32m━━━━━━━━━━━━━━━━━━━━\u001b[0m\u001b[37m\u001b[0m \u001b[1m5s\u001b[0m 3ms/step - loss: 896.9985 - mae: 13.9081\n",
            "Epoch 42/100\n",
            "\u001b[1m1875/1875\u001b[0m \u001b[32m━━━━━━━━━━━━━━━━━━━━\u001b[0m\u001b[37m\u001b[0m \u001b[1m6s\u001b[0m 3ms/step - loss: 890.8630 - mae: 13.8466\n",
            "Epoch 43/100\n",
            "\u001b[1m1875/1875\u001b[0m \u001b[32m━━━━━━━━━━━━━━━━━━━━\u001b[0m\u001b[37m\u001b[0m \u001b[1m10s\u001b[0m 3ms/step - loss: 889.3907 - mae: 13.8322\n",
            "Epoch 44/100\n",
            "\u001b[1m1875/1875\u001b[0m \u001b[32m━━━━━━━━━━━━━━━━━━━━\u001b[0m\u001b[37m\u001b[0m \u001b[1m9s\u001b[0m 3ms/step - loss: 887.7502 - mae: 13.8134\n",
            "Epoch 45/100\n",
            "\u001b[1m1875/1875\u001b[0m \u001b[32m━━━━━━━━━━━━━━━━━━━━\u001b[0m\u001b[37m\u001b[0m \u001b[1m6s\u001b[0m 3ms/step - loss: 889.5941 - mae: 13.8281\n",
            "Epoch 46/100\n",
            "\u001b[1m1875/1875\u001b[0m \u001b[32m━━━━━━━━━━━━━━━━━━━━\u001b[0m\u001b[37m\u001b[0m \u001b[1m10s\u001b[0m 3ms/step - loss: 891.0026 - mae: 13.8458\n",
            "Epoch 47/100\n",
            "\u001b[1m1875/1875\u001b[0m \u001b[32m━━━━━━━━━━━━━━━━━━━━\u001b[0m\u001b[37m\u001b[0m \u001b[1m5s\u001b[0m 3ms/step - loss: 887.6129 - mae: 13.8100\n",
            "Epoch 48/100\n",
            "\u001b[1m1875/1875\u001b[0m \u001b[32m━━━━━━━━━━━━━━━━━━━━\u001b[0m\u001b[37m\u001b[0m \u001b[1m5s\u001b[0m 3ms/step - loss: 883.2219 - mae: 13.7590\n",
            "Epoch 49/100\n",
            "\u001b[1m1875/1875\u001b[0m \u001b[32m━━━━━━━━━━━━━━━━━━━━\u001b[0m\u001b[37m\u001b[0m \u001b[1m5s\u001b[0m 3ms/step - loss: 884.4964 - mae: 13.7687\n",
            "Epoch 50/100\n",
            "\u001b[1m1875/1875\u001b[0m \u001b[32m━━━━━━━━━━━━━━━━━━━━\u001b[0m\u001b[37m\u001b[0m \u001b[1m5s\u001b[0m 3ms/step - loss: 880.8278 - mae: 13.7291\n",
            "Epoch 51/100\n",
            "\u001b[1m1875/1875\u001b[0m \u001b[32m━━━━━━━━━━━━━━━━━━━━\u001b[0m\u001b[37m\u001b[0m \u001b[1m5s\u001b[0m 3ms/step - loss: 884.5059 - mae: 13.7628\n",
            "Epoch 52/100\n",
            "\u001b[1m1875/1875\u001b[0m \u001b[32m━━━━━━━━━━━━━━━━━━━━\u001b[0m\u001b[37m\u001b[0m \u001b[1m10s\u001b[0m 3ms/step - loss: 881.5936 - mae: 13.7173\n",
            "Epoch 53/100\n",
            "\u001b[1m1875/1875\u001b[0m \u001b[32m━━━━━━━━━━━━━━━━━━━━\u001b[0m\u001b[37m\u001b[0m \u001b[1m6s\u001b[0m 3ms/step - loss: 878.9494 - mae: 13.7084\n",
            "Epoch 54/100\n",
            "\u001b[1m1875/1875\u001b[0m \u001b[32m━━━━━━━━━━━━━━━━━━━━\u001b[0m\u001b[37m\u001b[0m \u001b[1m10s\u001b[0m 3ms/step - loss: 879.2496 - mae: 13.7053\n",
            "Epoch 55/100\n",
            "\u001b[1m1875/1875\u001b[0m \u001b[32m━━━━━━━━━━━━━━━━━━━━\u001b[0m\u001b[37m\u001b[0m \u001b[1m5s\u001b[0m 3ms/step - loss: 879.5955 - mae: 13.6944\n",
            "Epoch 56/100\n",
            "\u001b[1m1875/1875\u001b[0m \u001b[32m━━━━━━━━━━━━━━━━━━━━\u001b[0m\u001b[37m\u001b[0m \u001b[1m5s\u001b[0m 2ms/step - loss: 874.4689 - mae: 13.6610\n",
            "Epoch 57/100\n",
            "\u001b[1m1875/1875\u001b[0m \u001b[32m━━━━━━━━━━━━━━━━━━━━\u001b[0m\u001b[37m\u001b[0m \u001b[1m5s\u001b[0m 3ms/step - loss: 876.6069 - mae: 13.6744\n",
            "Epoch 58/100\n",
            "\u001b[1m1875/1875\u001b[0m \u001b[32m━━━━━━━━━━━━━━━━━━━━\u001b[0m\u001b[37m\u001b[0m \u001b[1m5s\u001b[0m 3ms/step - loss: 873.4303 - mae: 13.6270\n",
            "Epoch 59/100\n",
            "\u001b[1m1875/1875\u001b[0m \u001b[32m━━━━━━━━━━━━━━━━━━━━\u001b[0m\u001b[37m\u001b[0m \u001b[1m5s\u001b[0m 2ms/step - loss: 876.1683 - mae: 13.6626\n",
            "Epoch 60/100\n",
            "\u001b[1m1875/1875\u001b[0m \u001b[32m━━━━━━━━━━━━━━━━━━━━\u001b[0m\u001b[37m\u001b[0m \u001b[1m5s\u001b[0m 3ms/step - loss: 874.8396 - mae: 13.6500\n",
            "Epoch 61/100\n",
            "\u001b[1m1875/1875\u001b[0m \u001b[32m━━━━━━━━━━━━━━━━━━━━\u001b[0m\u001b[37m\u001b[0m \u001b[1m5s\u001b[0m 2ms/step - loss: 873.8204 - mae: 13.6325\n",
            "Epoch 62/100\n",
            "\u001b[1m1875/1875\u001b[0m \u001b[32m━━━━━━━━━━━━━━━━━━━━\u001b[0m\u001b[37m\u001b[0m \u001b[1m5s\u001b[0m 3ms/step - loss: 872.6763 - mae: 13.6124\n",
            "Epoch 63/100\n",
            "\u001b[1m1875/1875\u001b[0m \u001b[32m━━━━━━━━━━━━━━━━━━━━\u001b[0m\u001b[37m\u001b[0m \u001b[1m5s\u001b[0m 3ms/step - loss: 868.5364 - mae: 13.5703\n",
            "Epoch 64/100\n",
            "\u001b[1m1875/1875\u001b[0m \u001b[32m━━━━━━━━━━━━━━━━━━━━\u001b[0m\u001b[37m\u001b[0m \u001b[1m5s\u001b[0m 2ms/step - loss: 866.8071 - mae: 13.5579\n",
            "Epoch 65/100\n",
            "\u001b[1m1875/1875\u001b[0m \u001b[32m━━━━━━━━━━━━━━━━━━━━\u001b[0m\u001b[37m\u001b[0m \u001b[1m6s\u001b[0m 3ms/step - loss: 866.1122 - mae: 13.5523\n",
            "Epoch 66/100\n",
            "\u001b[1m1875/1875\u001b[0m \u001b[32m━━━━━━━━━━━━━━━━━━━━\u001b[0m\u001b[37m\u001b[0m \u001b[1m10s\u001b[0m 2ms/step - loss: 866.9449 - mae: 13.5606\n",
            "Epoch 67/100\n",
            "\u001b[1m1875/1875\u001b[0m \u001b[32m━━━━━━━━━━━━━━━━━━━━\u001b[0m\u001b[37m\u001b[0m \u001b[1m5s\u001b[0m 3ms/step - loss: 865.6260 - mae: 13.5370\n",
            "Epoch 68/100\n",
            "\u001b[1m1875/1875\u001b[0m \u001b[32m━━━━━━━━━━━━━━━━━━━━\u001b[0m\u001b[37m\u001b[0m \u001b[1m5s\u001b[0m 2ms/step - loss: 866.8386 - mae: 13.5557\n",
            "Epoch 69/100\n",
            "\u001b[1m1875/1875\u001b[0m \u001b[32m━━━━━━━━━━━━━━━━━━━━\u001b[0m\u001b[37m\u001b[0m \u001b[1m6s\u001b[0m 3ms/step - loss: 867.3214 - mae: 13.5556\n",
            "Epoch 70/100\n",
            "\u001b[1m1875/1875\u001b[0m \u001b[32m━━━━━━━━━━━━━━━━━━━━\u001b[0m\u001b[37m\u001b[0m \u001b[1m5s\u001b[0m 3ms/step - loss: 865.3337 - mae: 13.5329\n",
            "Epoch 71/100\n",
            "\u001b[1m1875/1875\u001b[0m \u001b[32m━━━━━━━━━━━━━━━━━━━━\u001b[0m\u001b[37m\u001b[0m \u001b[1m5s\u001b[0m 3ms/step - loss: 859.7913 - mae: 13.4856\n",
            "Epoch 72/100\n",
            "\u001b[1m1875/1875\u001b[0m \u001b[32m━━━━━━━━━━━━━━━━━━━━\u001b[0m\u001b[37m\u001b[0m \u001b[1m6s\u001b[0m 3ms/step - loss: 861.9276 - mae: 13.4942\n",
            "Epoch 73/100\n",
            "\u001b[1m1875/1875\u001b[0m \u001b[32m━━━━━━━━━━━━━━━━━━━━\u001b[0m\u001b[37m\u001b[0m \u001b[1m5s\u001b[0m 3ms/step - loss: 856.2466 - mae: 13.4472\n",
            "Epoch 74/100\n",
            "\u001b[1m1875/1875\u001b[0m \u001b[32m━━━━━━━━━━━━━━━━━━━━\u001b[0m\u001b[37m\u001b[0m \u001b[1m5s\u001b[0m 3ms/step - loss: 859.6938 - mae: 13.4782\n",
            "Epoch 75/100\n",
            "\u001b[1m1875/1875\u001b[0m \u001b[32m━━━━━━━━━━━━━━━━━━━━\u001b[0m\u001b[37m\u001b[0m \u001b[1m5s\u001b[0m 3ms/step - loss: 859.3426 - mae: 13.4671\n",
            "Epoch 76/100\n",
            "\u001b[1m1875/1875\u001b[0m \u001b[32m━━━━━━━━━━━━━━━━━━━━\u001b[0m\u001b[37m\u001b[0m \u001b[1m5s\u001b[0m 2ms/step - loss: 858.0914 - mae: 13.4459\n",
            "Epoch 77/100\n",
            "\u001b[1m1875/1875\u001b[0m \u001b[32m━━━━━━━━━━━━━━━━━━━━\u001b[0m\u001b[37m\u001b[0m \u001b[1m6s\u001b[0m 3ms/step - loss: 859.1897 - mae: 13.4497\n",
            "Epoch 78/100\n",
            "\u001b[1m1875/1875\u001b[0m \u001b[32m━━━━━━━━━━━━━━━━━━━━\u001b[0m\u001b[37m\u001b[0m \u001b[1m5s\u001b[0m 2ms/step - loss: 856.5765 - mae: 13.4414\n",
            "Epoch 79/100\n",
            "\u001b[1m1875/1875\u001b[0m \u001b[32m━━━━━━━━━━━━━━━━━━━━\u001b[0m\u001b[37m\u001b[0m \u001b[1m6s\u001b[0m 3ms/step - loss: 855.7731 - mae: 13.4277\n",
            "Epoch 80/100\n",
            "\u001b[1m1875/1875\u001b[0m \u001b[32m━━━━━━━━━━━━━━━━━━━━\u001b[0m\u001b[37m\u001b[0m \u001b[1m5s\u001b[0m 3ms/step - loss: 856.4102 - mae: 13.4320\n",
            "Epoch 81/100\n",
            "\u001b[1m1875/1875\u001b[0m \u001b[32m━━━━━━━━━━━━━━━━━━━━\u001b[0m\u001b[37m\u001b[0m \u001b[1m5s\u001b[0m 2ms/step - loss: 856.7495 - mae: 13.4312\n",
            "Epoch 82/100\n",
            "\u001b[1m1875/1875\u001b[0m \u001b[32m━━━━━━━━━━━━━━━━━━━━\u001b[0m\u001b[37m\u001b[0m \u001b[1m6s\u001b[0m 3ms/step - loss: 855.1030 - mae: 13.4165\n",
            "Epoch 83/100\n",
            "\u001b[1m1875/1875\u001b[0m \u001b[32m━━━━━━━━━━━━━━━━━━━━\u001b[0m\u001b[37m\u001b[0m \u001b[1m10s\u001b[0m 3ms/step - loss: 854.6370 - mae: 13.3988\n",
            "Epoch 84/100\n",
            "\u001b[1m1875/1875\u001b[0m \u001b[32m━━━━━━━━━━━━━━━━━━━━\u001b[0m\u001b[37m\u001b[0m \u001b[1m10s\u001b[0m 3ms/step - loss: 852.3004 - mae: 13.3892\n",
            "Epoch 85/100\n",
            "\u001b[1m1875/1875\u001b[0m \u001b[32m━━━━━━━━━━━━━━━━━━━━\u001b[0m\u001b[37m\u001b[0m \u001b[1m6s\u001b[0m 3ms/step - loss: 852.4821 - mae: 13.3776\n",
            "Epoch 86/100\n",
            "\u001b[1m1875/1875\u001b[0m \u001b[32m━━━━━━━━━━━━━━━━━━━━\u001b[0m\u001b[37m\u001b[0m \u001b[1m5s\u001b[0m 3ms/step - loss: 850.5892 - mae: 13.3621\n",
            "Epoch 87/100\n",
            "\u001b[1m1875/1875\u001b[0m \u001b[32m━━━━━━━━━━━━━━━━━━━━\u001b[0m\u001b[37m\u001b[0m \u001b[1m5s\u001b[0m 3ms/step - loss: 849.3754 - mae: 13.3420\n",
            "Epoch 88/100\n",
            "\u001b[1m1875/1875\u001b[0m \u001b[32m━━━━━━━━━━━━━━━━━━━━\u001b[0m\u001b[37m\u001b[0m \u001b[1m5s\u001b[0m 3ms/step - loss: 847.8802 - mae: 13.3385\n",
            "Epoch 89/100\n",
            "\u001b[1m1875/1875\u001b[0m \u001b[32m━━━━━━━━━━━━━━━━━━━━\u001b[0m\u001b[37m\u001b[0m \u001b[1m5s\u001b[0m 3ms/step - loss: 847.9741 - mae: 13.3482\n",
            "Epoch 90/100\n",
            "\u001b[1m1875/1875\u001b[0m \u001b[32m━━━━━━━━━━━━━━━━━━━━\u001b[0m\u001b[37m\u001b[0m \u001b[1m6s\u001b[0m 3ms/step - loss: 845.0375 - mae: 13.3066\n",
            "Epoch 91/100\n",
            "\u001b[1m1875/1875\u001b[0m \u001b[32m━━━━━━━━━━━━━━━━━━━━\u001b[0m\u001b[37m\u001b[0m \u001b[1m5s\u001b[0m 3ms/step - loss: 847.5969 - mae: 13.3264\n",
            "Epoch 92/100\n",
            "\u001b[1m1875/1875\u001b[0m \u001b[32m━━━━━━━━━━━━━━━━━━━━\u001b[0m\u001b[37m\u001b[0m \u001b[1m5s\u001b[0m 3ms/step - loss: 848.6693 - mae: 13.3284\n",
            "Epoch 93/100\n",
            "\u001b[1m1875/1875\u001b[0m \u001b[32m━━━━━━━━━━━━━━━━━━━━\u001b[0m\u001b[37m\u001b[0m \u001b[1m10s\u001b[0m 3ms/step - loss: 847.6982 - mae: 13.3220\n",
            "Epoch 94/100\n",
            "\u001b[1m1875/1875\u001b[0m \u001b[32m━━━━━━━━━━━━━━━━━━━━\u001b[0m\u001b[37m\u001b[0m \u001b[1m6s\u001b[0m 3ms/step - loss: 845.6998 - mae: 13.3105\n",
            "Epoch 95/100\n",
            "\u001b[1m1875/1875\u001b[0m \u001b[32m━━━━━━━━━━━━━━━━━━━━\u001b[0m\u001b[37m\u001b[0m \u001b[1m5s\u001b[0m 3ms/step - loss: 847.2314 - mae: 13.3171\n",
            "Epoch 96/100\n",
            "\u001b[1m1875/1875\u001b[0m \u001b[32m━━━━━━━━━━━━━━━━━━━━\u001b[0m\u001b[37m\u001b[0m \u001b[1m5s\u001b[0m 3ms/step - loss: 844.9594 - mae: 13.2985\n",
            "Epoch 97/100\n",
            "\u001b[1m1875/1875\u001b[0m \u001b[32m━━━━━━━━━━━━━━━━━━━━\u001b[0m\u001b[37m\u001b[0m \u001b[1m5s\u001b[0m 3ms/step - loss: 839.9763 - mae: 13.2548\n",
            "Epoch 98/100\n",
            "\u001b[1m1875/1875\u001b[0m \u001b[32m━━━━━━━━━━━━━━━━━━━━\u001b[0m\u001b[37m\u001b[0m \u001b[1m11s\u001b[0m 3ms/step - loss: 843.1417 - mae: 13.2752\n",
            "Epoch 99/100\n",
            "\u001b[1m1875/1875\u001b[0m \u001b[32m━━━━━━━━━━━━━━━━━━━━\u001b[0m\u001b[37m\u001b[0m \u001b[1m10s\u001b[0m 3ms/step - loss: 846.5975 - mae: 13.3166\n",
            "Epoch 100/100\n",
            "\u001b[1m1875/1875\u001b[0m \u001b[32m━━━━━━━━━━━━━━━━━━━━\u001b[0m\u001b[37m\u001b[0m \u001b[1m5s\u001b[0m 3ms/step - loss: 839.5886 - mae: 13.2488\n"
          ]
        },
        {
          "output_type": "execute_result",
          "data": {
            "text/plain": [
              "<keras.src.callbacks.history.History at 0x783a5fb9a020>"
            ]
          },
          "metadata": {},
          "execution_count": 60
        }
      ]
    },
    {
      "cell_type": "code",
      "source": [
        "model.predict(x_test[0].reshape(1,28,28)).reshape(28,28)"
      ],
      "metadata": {
        "colab": {
          "base_uri": "https://localhost:8080/"
        },
        "id": "FwH0TP06mT6D",
        "outputId": "531df819-d442-46e0-80cf-c04e4c099b58"
      },
      "execution_count": 61,
      "outputs": [
        {
          "output_type": "stream",
          "name": "stdout",
          "text": [
            "\u001b[1m1/1\u001b[0m \u001b[32m━━━━━━━━━━━━━━━━━━━━\u001b[0m\u001b[37m\u001b[0m \u001b[1m0s\u001b[0m 19ms/step\n"
          ]
        },
        {
          "output_type": "execute_result",
          "data": {
            "text/plain": [
              "array([[ 9.61479917e-03, -1.52764931e-01,  1.69488415e-02,\n",
              "        -1.13857530e-01, -4.25718516e-01,  1.80041902e-02,\n",
              "         5.15088558e-01,  3.62011999e-01, -2.90749758e-01,\n",
              "        -1.98329046e-01,  1.57320008e-01,  1.11315526e-01,\n",
              "        -1.49550229e-01,  9.00330245e-02,  3.86417687e-01,\n",
              "        -2.80415773e-01, -4.00417954e-01, -1.45234451e-01,\n",
              "         1.43913448e-01,  2.29566358e-05,  6.03412762e-02,\n",
              "         2.06851378e-01, -3.04704487e-01,  2.61511713e-01,\n",
              "         1.25011072e-01, -2.06507102e-01, -1.83166504e-01,\n",
              "         1.36455119e-01],\n",
              "       [ 5.65259494e-02,  1.37911037e-01, -2.24423051e-01,\n",
              "        -1.65722370e-01, -5.19509137e-01, -2.17025906e-01,\n",
              "         8.71168450e-02, -5.32127380e-01, -3.94342035e-01,\n",
              "         3.14533114e-02, -7.47634828e-01, -1.15434146e+00,\n",
              "        -3.87508750e-01,  1.24309158e+00,  7.31935263e-01,\n",
              "        -1.19080618e-01, -7.96039224e-01,  5.96993029e-01,\n",
              "         6.21079147e-01,  1.19824857e-01, -6.84057474e-02,\n",
              "         2.53375709e-01,  2.78015524e-01, -1.67681277e-02,\n",
              "        -1.55296758e-01,  4.12149370e-01, -2.23560914e-01,\n",
              "         9.78977010e-02],\n",
              "       [ 6.15460761e-02,  4.79587704e-01, -1.97471790e-02,\n",
              "         3.33912343e-01, -3.75075966e-01, -7.54685774e-02,\n",
              "         1.07517168e-01,  2.60086417e-01,  9.67434168e-01,\n",
              "        -3.04772913e-01, -8.04421961e-01,  6.79260731e-01,\n",
              "         1.18534040e+00, -2.78101385e-01, -1.63125467e+00,\n",
              "         1.30780935e-02,  1.41638160e+00,  3.18959570e+00,\n",
              "         4.46816587e+00,  2.80053949e+00,  1.77600205e-01,\n",
              "        -2.14940429e-01,  6.83947086e-01,  1.11624494e-01,\n",
              "         3.51952165e-01,  2.89403975e-01, -9.75508839e-02,\n",
              "         1.39229104e-01],\n",
              "       [-4.65437979e-01, -2.31677368e-01,  1.49841547e-01,\n",
              "         2.17716068e-01,  7.46785551e-02, -7.11963058e-01,\n",
              "         9.27251577e-01,  1.11520290e+00,  3.19906473e-01,\n",
              "        -1.92101026e+00, -3.57798529e+00,  3.80872518e-01,\n",
              "         9.83447671e-01,  4.65864837e-01,  1.20352304e+00,\n",
              "         2.58710432e+00, -7.06557035e-01, -1.99529219e+00,\n",
              "        -1.32100272e+00,  1.10810018e+00,  2.35632539e+00,\n",
              "         1.65331900e+00, -1.37801492e+00, -7.78836727e-01,\n",
              "         1.54465914e-01,  4.46729064e-01, -4.87610772e-02,\n",
              "        -9.91240367e-02],\n",
              "       [-1.81413472e-01, -9.45637468e-03, -3.47368196e-02,\n",
              "         2.84265041e-01, -7.67509878e-01, -3.29254061e-01,\n",
              "        -9.93362308e-01,  1.53423488e+00,  5.86617708e-01,\n",
              "        -3.48898673e+00, -4.86657047e+00,  2.16603041e-01,\n",
              "         7.96641445e+00,  8.65708733e+00,  3.98559809e+00,\n",
              "        -1.58657885e+00,  3.92888212e+00,  6.43035746e+00,\n",
              "         3.54633331e+00,  3.02142048e+00,  4.69008350e+00,\n",
              "         3.18127155e+00, -1.06396246e+00, -1.76288986e+00,\n",
              "         2.14881584e-01, -1.57001090e+00, -1.19014844e-01,\n",
              "        -5.91482446e-02],\n",
              "       [-3.22862267e-01, -9.47077096e-01, -3.08485180e-02,\n",
              "        -2.64787841e+00, -3.55407357e+00, -6.28987885e+00,\n",
              "        -4.15434551e+00,  2.43070984e+00, -8.66157770e-01,\n",
              "        -1.45695591e+01, -2.39821167e+01, -1.46727076e+01,\n",
              "        -2.88159394e+00,  8.01005077e+00,  1.02676582e+01,\n",
              "         9.34947777e+00,  1.19205637e+01,  9.65959072e+00,\n",
              "         3.01590967e+00, -4.13054085e+00, -6.16599083e+00,\n",
              "        -4.92349625e+00, -6.20865822e-01,  2.21640015e+00,\n",
              "        -3.32570940e-01, -1.35362387e+00,  8.69575739e-02,\n",
              "         6.40738830e-02],\n",
              "       [ 3.06184858e-01,  1.05838552e-01, -2.35267952e-01,\n",
              "        -2.24436927e+00,  2.51389790e+00,  6.14657211e+00,\n",
              "         1.86008854e+01,  4.07714233e+01,  2.65115337e+01,\n",
              "        -1.20815334e+01, -3.32675095e+01, -2.61595268e+01,\n",
              "        -1.76599274e+01, -2.25086451e+00,  9.11907196e+00,\n",
              "         9.51099300e+00,  1.43682218e+00, -1.31052113e+00,\n",
              "         4.55130005e+00,  1.14743500e+01,  3.43325901e+00,\n",
              "        -6.04346752e+00, -9.15941477e-01,  5.98938942e-01,\n",
              "        -1.32786393e+00,  2.13218808e-01,  6.82598352e-01,\n",
              "         2.16513306e-01],\n",
              "       [-1.24369441e-02,  2.49050289e-01,  2.97933483e+00,\n",
              "         8.49734497e+00,  1.71355915e+01,  4.89604416e+01,\n",
              "         1.24449280e+02,  1.79421143e+02,  1.45883682e+02,\n",
              "         1.11038033e+02,  8.87034988e+01,  6.44936600e+01,\n",
              "         3.26890450e+01,  4.16354370e+00, -1.34994097e+01,\n",
              "        -1.77450619e+01, -1.08139896e+01, -5.87914991e+00,\n",
              "         1.38001347e+01,  3.53448257e+01,  5.09442902e+01,\n",
              "         2.85311317e+01,  1.38083439e+01,  1.82249999e+00,\n",
              "        -6.18236685e+00, -3.98464489e+00, -1.95276082e+00,\n",
              "         1.99887916e-01],\n",
              "       [-2.70470262e-01, -8.44120830e-02, -1.30516410e+00,\n",
              "         4.84731817e+00,  1.21141043e+01,  6.60218658e+01,\n",
              "         1.65600204e+02,  2.31964432e+02,  2.30945969e+02,\n",
              "         2.38366150e+02,  2.38763214e+02,  2.32740234e+02,\n",
              "         2.03227783e+02,  1.72080200e+02,  1.52004440e+02,\n",
              "         1.43542404e+02,  1.41087860e+02,  1.44746643e+02,\n",
              "         1.36607559e+02,  1.47132812e+02,  1.55238480e+02,\n",
              "         1.14853767e+02,  4.32663155e+01,  7.39288998e+00,\n",
              "        -2.58795118e+00, -4.69248152e+00, -4.17914271e-01,\n",
              "         3.14938158e-01],\n",
              "       [ 6.84064478e-02, -1.11670196e+00, -7.82705593e+00,\n",
              "        -8.48315525e+00, -1.08211632e+01,  2.20410805e+01,\n",
              "         8.38029175e+01,  1.36765076e+02,  1.73450943e+02,\n",
              "         1.91081818e+02,  2.19561722e+02,  2.36162567e+02,\n",
              "         2.41843307e+02,  2.48597839e+02,  2.50525940e+02,\n",
              "         2.32719742e+02,  2.21234329e+02,  2.03219254e+02,\n",
              "         1.90708817e+02,  2.16672684e+02,  2.30166870e+02,\n",
              "         1.63000763e+02,  5.34862213e+01,  4.79700685e-01,\n",
              "        -4.74266434e+00, -3.26197529e+00,  1.55760646e-01,\n",
              "        -6.75722063e-02],\n",
              "       [ 4.59580049e-02, -1.17700195e+00, -5.39526987e+00,\n",
              "        -7.82950449e+00, -1.10856199e+01, -1.66697483e+01,\n",
              "        -3.48334980e+00,  2.33681774e+01,  4.04391785e+01,\n",
              "         4.66344566e+01,  7.31378174e+01,  8.16584244e+01,\n",
              "         8.78840561e+01,  9.88813629e+01,  1.07033844e+02,\n",
              "         1.02925758e+02,  9.10133972e+01,  8.81242676e+01,\n",
              "         1.26914085e+02,  2.25962280e+02,  2.47746674e+02,\n",
              "         1.44266388e+02,  3.41838074e+01, -4.98011732e+00,\n",
              "        -2.38336658e+00, -9.79400992e-01, -9.88200903e-02,\n",
              "        -5.42564392e-02],\n",
              "       [ 1.12828456e-01,  3.52394342e-01,  1.26095092e+00,\n",
              "         8.88385487e+00,  5.44153976e+00, -1.17578745e+01,\n",
              "        -1.53286228e+01, -4.35165930e+00, -7.05782413e-01,\n",
              "        -3.62709475e+00, -4.51382542e+00,  8.94549966e-01,\n",
              "        -5.77065468e+00, -4.10849333e+00, -8.41636467e+00,\n",
              "        -1.34208546e+01, -1.03627310e+01,  2.57294250e+00,\n",
              "         1.23685440e+02,  2.56044220e+02,  2.39637375e+02,\n",
              "         9.48677979e+01,  4.76865768e+00, -4.30777693e+00,\n",
              "         2.19935369e+00, -9.14893508e-01, -2.91931510e-01,\n",
              "        -3.95601809e-01],\n",
              "       [ 5.42608760e-02,  8.05240214e-01,  3.54272652e+00,\n",
              "         1.49004822e+01,  1.14248228e+01, -1.96761459e-01,\n",
              "        -4.04853916e+00,  4.73879719e+00,  1.27739248e+01,\n",
              "         9.02759266e+00,  2.67826176e+00,  1.11661959e+01,\n",
              "         6.61714268e+00,  2.49402356e+00,  5.99919677e-01,\n",
              "        -8.40503025e+00, -1.13984432e+01,  3.70819511e+01,\n",
              "         1.87215698e+02,  2.67574554e+02,  1.83226715e+02,\n",
              "         3.30105972e+01, -7.51434088e+00, -2.81066728e+00,\n",
              "         5.03620684e-01, -6.06780171e-01, -5.55796623e-02,\n",
              "        -6.45034313e-02],\n",
              "       [ 6.17206618e-02,  6.83557391e-01,  2.35211635e+00,\n",
              "         1.18867970e+01,  5.67881680e+00,  8.80676270e-01,\n",
              "         2.19750166e-01,  1.13375120e+01,  1.99144688e+01,\n",
              "         1.45119047e+01,  1.49135942e+01,  2.06998596e+01,\n",
              "         1.39235344e+01,  1.09514914e+01,  1.12090006e+01,\n",
              "         3.67071450e-01,  1.88027992e+01,  1.07468086e+02,\n",
              "         2.30028824e+02,  2.42792343e+02,  9.87237549e+01,\n",
              "        -6.13996935e+00, -6.05794549e-01, -2.24838185e+00,\n",
              "        -2.24034595e+00, -4.37582254e-01,  2.61378002e+00,\n",
              "         2.44479084e+00],\n",
              "       [-2.11374655e-01,  5.23613870e-01,  1.31195903e+00,\n",
              "         4.64948177e+00, -3.24226648e-01, -1.50052619e+00,\n",
              "        -1.27909887e+00,  1.76787257e-01,  1.08800716e+01,\n",
              "         1.62813072e+01,  1.00840654e+01,  1.05805922e+01,\n",
              "         4.09145641e+00,  3.15015554e+00,  1.16846704e+00,\n",
              "        -6.02409506e+00,  4.87074966e+01,  1.65464081e+02,\n",
              "         2.33504059e+02,  1.83519867e+02,  3.02084045e+01,\n",
              "        -1.07581816e+01,  3.81171560e+00, -9.96579051e-01,\n",
              "        -2.45581222e+00, -2.49450445e+00,  1.44348955e+00,\n",
              "         1.11896142e-01],\n",
              "       [ 2.91215271e-01, -4.28085178e-02,  2.43180022e-01,\n",
              "         1.59784889e+00, -1.62584829e+00, -2.69128132e+00,\n",
              "         2.14661956e-01, -1.70489454e+00,  1.86204672e+00,\n",
              "         5.26822233e+00,  1.15162439e+01,  1.90643826e+01,\n",
              "         1.52292318e+01,  9.75530052e+00, -5.07304001e+00,\n",
              "        -5.24526405e+00,  1.06935303e+02,  2.14446640e+02,\n",
              "         2.06350357e+02,  1.00056358e+02, -3.89937687e+00,\n",
              "        -1.26261873e+01, -2.95291567e+00, -1.50445473e+00,\n",
              "        -1.78218806e+00, -4.10875797e+00,  1.97836727e-01,\n",
              "        -5.03269881e-02],\n",
              "       [ 1.30051076e-02, -2.90112309e-02, -9.99292135e-02,\n",
              "         1.52265811e+00,  1.16911769e+00, -1.29132950e+00,\n",
              "         3.50293899e+00,  6.09504652e+00, -2.86059809e+00,\n",
              "        -5.99388599e+00,  4.91497707e+00,  1.12884722e+01,\n",
              "         9.43433857e+00,  1.12931061e+01, -1.26095619e+01,\n",
              "         3.79531746e+01,  1.82385437e+02,  2.31504150e+02,\n",
              "         1.48880188e+02,  2.63364334e+01, -1.51500940e+01,\n",
              "        -8.07349968e+00, -4.83223486e+00, -2.57614255e+00,\n",
              "         1.30291414e+00, -1.72729027e+00, -2.09631801e-01,\n",
              "        -5.84878027e-03],\n",
              "       [ 4.04096782e-01,  7.39606470e-03, -7.17555106e-01,\n",
              "         2.55581975e-01,  5.29738069e-01,  3.15684295e+00,\n",
              "         5.17159939e+00,  1.04605112e+01,  7.84740543e+00,\n",
              "         4.80535316e+00, -1.60719407e+00, -7.15064144e+00,\n",
              "        -6.01600647e+00, -1.74728203e+01,  6.76565599e+00,\n",
              "         1.25542648e+02,  2.40764572e+02,  1.95409348e+02,\n",
              "         6.27935066e+01, -5.57634878e+00, -2.40632391e+00,\n",
              "        -1.74578333e+00, -2.49782515e+00, -1.09079093e-01,\n",
              "         1.39086723e+00, -1.71626091e-01, -1.05281544e+00,\n",
              "         1.26512587e-01],\n",
              "       [-2.05614400e+00,  1.46559775e-02, -1.92742348e-02,\n",
              "        -2.27745056e-01,  1.31348443e+00,  5.67515659e+00,\n",
              "         1.95253670e+00,  2.55518603e+00,  5.99250507e+00,\n",
              "         6.27163506e+00,  3.83797216e+00,  2.61244869e+00,\n",
              "        -7.64391279e+00, -3.89207077e+00,  8.65143661e+01,\n",
              "         2.08317139e+02,  2.41491913e+02,  1.03113548e+02,\n",
              "         1.22413998e+01, -6.17212582e+00,  3.25567698e+00,\n",
              "        -3.46752310e+00, -8.94520402e-01,  7.69091785e-01,\n",
              "         6.84188247e-01,  7.66688287e-01, -4.63333428e-01,\n",
              "        -4.44958806e-02],\n",
              "       [-1.19197136e-02,  2.24459097e-02,  3.03478122e-01,\n",
              "         1.25315666e+00, -6.49815798e-01,  3.09554958e+00,\n",
              "         7.18894303e-01, -5.55986643e-01, -5.88231087e-01,\n",
              "         1.94641399e+00,  8.11849022e+00,  1.15731215e+00,\n",
              "        -1.69007759e+01,  4.02505760e+01,  1.73207001e+02,\n",
              "         2.47045563e+02,  1.66627090e+02,  2.76706047e+01,\n",
              "        -3.07913065e+00,  1.05784857e+00,  1.58706510e+00,\n",
              "        -1.66656673e+00, -1.84853941e-01, -1.16563618e-01,\n",
              "         9.53898549e-01,  1.99762046e-01,  3.16003740e-01,\n",
              "         5.07560186e-03],\n",
              "       [-1.82008132e-01, -1.96394324e-02,  9.66065526e-02,\n",
              "         3.33829045e+00,  2.36276388e+00,  3.19831181e+00,\n",
              "         2.36469126e+00, -4.32158887e-01, -3.35223722e+00,\n",
              "         7.68970013e-01,  5.44971228e+00, -3.50139999e+00,\n",
              "         2.24288273e+00,  1.33720062e+02,  2.42353683e+02,\n",
              "         2.09083115e+02,  6.94875488e+01, -2.54548073e-01,\n",
              "        -3.29943132e+00, -3.73064113e+00,  5.30643606e+00,\n",
              "         3.54175305e+00,  2.12074375e+00,  4.10880089e-01,\n",
              "         4.66402483e+00,  3.30568361e+00,  3.43808025e-01,\n",
              "         2.54985362e-01],\n",
              "       [ 6.01659790e-02, -1.88126296e-01, -6.66191757e-01,\n",
              "         4.32803249e+00,  4.81601429e+00,  5.47808170e+00,\n",
              "         1.82025087e+00, -1.30628502e+00, -3.29064894e+00,\n",
              "         2.54141760e+00,  1.77692223e+00, -1.20710397e+00,\n",
              "         7.48786926e+01,  2.29105148e+02,  2.48831802e+02,\n",
              "         1.04164452e+02,  1.19948387e+01, -7.12868834e+00,\n",
              "        -1.84748995e+00, -3.36564302e-01,  3.02143073e+00,\n",
              "         4.24878693e+00,  3.40017414e+00,  1.69415116e+00,\n",
              "         4.27955341e+00,  3.04267621e+00,  9.10402060e-01,\n",
              "        -8.80521238e-02],\n",
              "       [ 2.44051978e-01, -1.75598785e-01,  2.06110239e-01,\n",
              "         3.52585483e+00,  4.42308474e+00,  4.59436989e+00,\n",
              "         3.51757407e+00,  1.58694696e+00,  6.38926506e+00,\n",
              "        -2.14413810e+00, -7.05230427e+00,  3.67924194e+01,\n",
              "         1.81833481e+02,  2.72410339e+02,  1.72036789e+02,\n",
              "         2.79459381e+01, -4.81287384e+00, -1.24294605e+01,\n",
              "         2.69041014e+00,  3.42146206e+00, -1.12428403e+00,\n",
              "        -3.68026495e-01,  2.83053875e+00,  2.60805440e+00,\n",
              "         4.27905035e+00,  1.61080873e+00, -3.52452546e-01,\n",
              "         1.35829225e-01],\n",
              "       [-2.42343768e-01,  2.16084540e-01,  1.09796965e+00,\n",
              "         1.69727778e+00,  3.84164238e+00,  3.48065591e+00,\n",
              "         2.37413788e+00,  5.54393435e+00,  6.31084251e+00,\n",
              "        -6.57840776e+00,  3.71646732e-02,  1.33633163e+02,\n",
              "         2.75385101e+02,  2.47171051e+02,  6.43169174e+01,\n",
              "        -1.10860147e+01, -5.99638796e+00,  1.26319742e+00,\n",
              "         1.03194523e+01,  3.70622802e+00, -3.13717723e-02,\n",
              "         5.26751399e-01,  3.33361030e+00,  3.80545592e+00,\n",
              "         2.46780491e+00, -2.80966669e-01,  9.70603302e-02,\n",
              "        -2.85647422e-01],\n",
              "       [ 3.93860154e-02, -1.39129639e-01, -9.36570466e-02,\n",
              "         6.19712830e-01,  2.77561116e+00,  3.87408924e+00,\n",
              "         1.90863323e+00,  6.84353495e+00,  6.80224895e-02,\n",
              "        -1.26558781e+01,  3.40440445e+01,  1.96113297e+02,\n",
              "         2.48068451e+02,  1.41596970e+02,  1.49190307e+00,\n",
              "        -4.69175434e+00,  4.21695280e+00,  4.88608503e+00,\n",
              "         7.14302063e-02, -2.41040683e+00, -1.21004438e+00,\n",
              "         1.23191878e-01, -9.28779125e-01,  2.18350291e-02,\n",
              "         8.15820515e-01, -1.36538661e+00, -2.36001134e-01,\n",
              "        -2.21738547e-01],\n",
              "       [-4.59222496e-01, -5.83689660e-02,  5.01255989e-02,\n",
              "        -3.86907160e-01,  2.46376228e+00,  4.40415907e+00,\n",
              "         1.24971437e+00, -4.38957310e+00, -1.35096302e+01,\n",
              "        -1.88470054e+00,  1.10950592e+02,  2.52793854e+02,\n",
              "         2.43591354e+02,  8.29145126e+01, -1.63988209e+01,\n",
              "        -1.95247936e+00,  5.79886723e+00,  2.04805303e+00,\n",
              "        -5.20808077e+00, -6.18151236e+00, -7.38378346e-01,\n",
              "         1.62585688e+00,  1.70545900e+00,  8.01538408e-01,\n",
              "         9.61154699e-01,  9.17863101e-02, -1.55676633e-01,\n",
              "        -3.25232208e-01],\n",
              "       [ 2.55177706e-01,  3.95254903e-02,  3.18748325e-01,\n",
              "         6.91002607e-02,  1.99030936e-01,  2.46692276e+00,\n",
              "        -5.71523786e-01, -9.51667786e+00, -2.39404354e+01,\n",
              "        -1.24003878e+01,  8.02185898e+01,  1.95520752e+02,\n",
              "         1.63422455e+02,  3.29890518e+01, -2.38945065e+01,\n",
              "        -1.20885420e+01,  1.07169425e+00,  1.85997367e+00,\n",
              "        -1.83895183e+00, -2.04011059e+00, -6.23999238e-02,\n",
              "         1.50656331e+00,  1.28221011e+00,  1.46315306e-01,\n",
              "         4.10806835e-01,  4.74864125e-01, -2.33582661e-01,\n",
              "         1.81437850e-01],\n",
              "       [-2.69074980e-02, -1.55890919e-02,  3.68129283e-01,\n",
              "        -2.08777368e-01,  3.12494516e-01,  3.20063770e-01,\n",
              "         2.43120879e-01,  7.32138395e-01,  9.31585491e-01,\n",
              "         5.34517336e+00,  1.33125906e+01,  2.47462540e+01,\n",
              "         2.06598740e+01,  9.37468910e+00,  1.16729374e+01,\n",
              "         1.30697365e+01,  9.81045055e+00,  6.56206131e+00,\n",
              "         1.70869029e+00, -8.33655119e-01, -5.72863221e-03,\n",
              "         5.11967778e-01,  4.71262842e-01, -6.14197627e-02,\n",
              "         6.79337233e-02, -2.32139692e-01,  7.47986585e-02,\n",
              "        -1.87200814e-01]], dtype=float32)"
            ]
          },
          "metadata": {},
          "execution_count": 61
        }
      ]
    },
    {
      "cell_type": "code",
      "source": [
        "plt.axis('off')\n",
        "\n",
        "plt.imshow(x_test[1],cmap='gray')\n",
        "plt.imshow(model.predict(x_test[0].reshape(1,28,28)).reshape(28,28),cmap='gray')"
      ],
      "metadata": {
        "colab": {
          "base_uri": "https://localhost:8080/",
          "height": 441
        },
        "id": "h_oi-WAKgqni",
        "outputId": "8437ea1d-7922-4e94-e1f3-229d7e7308d3"
      },
      "execution_count": 65,
      "outputs": [
        {
          "output_type": "stream",
          "name": "stdout",
          "text": [
            "\u001b[1m1/1\u001b[0m \u001b[32m━━━━━━━━━━━━━━━━━━━━\u001b[0m\u001b[37m\u001b[0m \u001b[1m0s\u001b[0m 25ms/step\n"
          ]
        },
        {
          "output_type": "execute_result",
          "data": {
            "text/plain": [
              "<matplotlib.image.AxesImage at 0x783a303f2b90>"
            ]
          },
          "metadata": {},
          "execution_count": 65
        },
        {
          "output_type": "display_data",
          "data": {
            "text/plain": [
              "<Figure size 640x480 with 1 Axes>"
            ],
            "image/png": "[encoded data removed]"
          },
          "metadata": {}
        }
      ]
    },
    {
      "cell_type": "code",
      "source": [
        "plt.imshow(x_test[0],cmap='gray')"
      ],
      "metadata": {
        "colab": {
          "base_uri": "https://localhost:8080/",
          "height": 447
        },
        "id": "Nv5u8RvgmR1f",
        "outputId": "9619b3f5-cb6b-4f1d-cdfc-8c9b741306c6"
      },
      "execution_count": 67,
      "outputs": [
        {
          "output_type": "execute_result",
          "data": {
            "text/plain": [
              "<matplotlib.image.AxesImage at 0x783a5fb0ad10>"
            ]
          },
          "metadata": {},
          "execution_count": 67
        },
        {
          "output_type": "display_data",
          "data": {
            "text/plain": [
              "<Figure size 640x480 with 1 Axes>"
            ],
            "image/png": "[encoded data removed]"
          },
          "metadata": {}
        }
      ]
    },
    {
      "cell_type": "code",
      "source": [
        "plt.axis('off')\n",
        "plt.imshow(x_test[1],cmap='gray')"
      ],
      "metadata": {
        "colab": {
          "base_uri": "https://localhost:8080/",
          "height": 423
        },
        "id": "H9cieC2ZjPi4",
        "outputId": "3e857f32-e31f-4ee0-dc66-4b4fff9e4cd3"
      },
      "execution_count": 63,
      "outputs": [
        {
          "output_type": "execute_result",
          "data": {
            "text/plain": [
              "<matplotlib.image.AxesImage at 0x783a8158f8b0>"
            ]
          },
          "metadata": {},
          "execution_count": 63
        },
        {
          "output_type": "display_data",
          "data": {
            "text/plain": [
              "<Figure size 640x480 with 1 Axes>"
            ],
            "image/png": "[encoded data removed]"
          },
          "metadata": {}
        }
      ]
    },
    {
      "cell_type": "code",
      "source": [
        "plt.axis('off')\n",
        "plt.imshow(model.predict(x_test[1].reshape(1,28,28)).reshape(28,28),cmap='gray')"
      ],
      "metadata": {
        "colab": {
          "base_uri": "https://localhost:8080/",
          "height": 441
        },
        "id": "1oD8P-vAjq2p",
        "outputId": "bf16e317-6c61-4d2d-aa33-3f4b2b13df22"
      },
      "execution_count": 68,
      "outputs": [
        {
          "output_type": "stream",
          "name": "stdout",
          "text": [
            "\u001b[1m1/1\u001b[0m \u001b[32m━━━━━━━━━━━━━━━━━━━━\u001b[0m\u001b[37m\u001b[0m \u001b[1m0s\u001b[0m 18ms/step\n"
          ]
        },
        {
          "output_type": "execute_result",
          "data": {
            "text/plain": [
              "<matplotlib.image.AxesImage at 0x783aadfaece0>"
            ]
          },
          "metadata": {},
          "execution_count": 68
        },
        {
          "output_type": "display_data",
          "data": {
            "text/plain": [
              "<Figure size 640x480 with 1 Axes>"
            ],
            "image/png": "[encoded data removed]"
          },
          "metadata": {}
        }
      ]
    },
    {
      "cell_type": "code",
      "source": [
        "model.evaluate(x_test,x_test)"
      ],
      "metadata": {
        "colab": {
          "base_uri": "https://localhost:8080/"
        },
        "id": "xTtSxPTmkRoV",
        "outputId": "7c3a67f4-5aed-442a-da3d-bdd65f383e75"
      },
      "execution_count": 69,
      "outputs": [
        {
          "output_type": "stream",
          "name": "stdout",
          "text": [
            "\u001b[1m313/313\u001b[0m \u001b[32m━━━━━━━━━━━━━━━━━━━━\u001b[0m\u001b[37m\u001b[0m \u001b[1m2s\u001b[0m 4ms/step - loss: 967.3767 - mae: 14.0030\n"
          ]
        },
        {
          "output_type": "execute_result",
          "data": {
            "text/plain": [
              "[955.814697265625, 13.981085777282715]"
            ]
          },
          "metadata": {},
          "execution_count": 69
        }
      ]
    },
    {
      "cell_type": "code",
      "source": [
        "pred=model.predict(x_test)"
      ],
      "metadata": {
        "colab": {
          "base_uri": "https://localhost:8080/"
        },
        "id": "1BRYkd2NnXmw",
        "outputId": "421c7f2a-5a0d-44db-8ada-0a4f719e81f0"
      },
      "execution_count": 76,
      "outputs": [
        {
          "output_type": "stream",
          "name": "stdout",
          "text": [
            "\u001b[1m313/313\u001b[0m \u001b[32m━━━━━━━━━━━━━━━━━━━━\u001b[0m\u001b[37m\u001b[0m \u001b[1m0s\u001b[0m 1ms/step\n"
          ]
        }
      ]
    },
    {
      "cell_type": "code",
      "source": [
        "pred_flat=pred.flatten().reshape(-1,1)"
      ],
      "metadata": {
        "id": "_HWEwsi4nz_-"
      },
      "execution_count": 82,
      "outputs": []
    },
    {
      "cell_type": "code",
      "source": [
        "x_test_flat=x_test.flatten().reshape(-1,1)"
      ],
      "metadata": {
        "id": "uU38JVwDn86C"
      },
      "execution_count": 83,
      "outputs": []
    },
    {
      "cell_type": "code",
      "source": [
        "from sklearn.metrics import r2_score,mean_squared_error,mean_absolute_error"
      ],
      "metadata": {
        "id": "lEQZOQ0xoBsl"
      },
      "execution_count": 89,
      "outputs": []
    },
    {
      "cell_type": "code",
      "source": [
        "r2_score(x_test_flat,pred_flat)"
      ],
      "metadata": {
        "id": "O11p1ckOpHa_",
        "outputId": "99d434c5-f155-43b6-9d49-f2376659c32b",
        "colab": {
          "base_uri": "https://localhost:8080/"
        }
      },
      "execution_count": 87,
      "outputs": [
        {
          "output_type": "execute_result",
          "data": {
            "text/plain": [
              "0.8475155830383301"
            ]
          },
          "metadata": {},
          "execution_count": 87
        }
      ]
    },
    {
      "cell_type": "code",
      "source": [
        "mean_absolute_error(x_test_flat,pred_flat)"
      ],
      "metadata": {
        "id": "PcyHduZWpUAG",
        "outputId": "decdf426-8671-4cfa-dc16-f39588ef3677",
        "colab": {
          "base_uri": "https://localhost:8080/"
        }
      },
      "execution_count": 90,
      "outputs": [
        {
          "output_type": "execute_result",
          "data": {
            "text/plain": [
              "13.981096267700195"
            ]
          },
          "metadata": {},
          "execution_count": 90
        }
      ]
    },
    {
      "cell_type": "code",
      "source": [
        "mean_squared_error(x_test_flat,pred_flat)"
      ],
      "metadata": {
        "id": "sayrYqXBpn-G",
        "outputId": "1c8e668e-9a25-41d1-9be6-422fba56334b",
        "colab": {
          "base_uri": "https://localhost:8080/"
        }
      },
      "execution_count": 91,
      "outputs": [
        {
          "output_type": "execute_result",
          "data": {
            "text/plain": [
              "955.814697265625"
            ]
          },
          "metadata": {},
          "execution_count": 91
        }
      ]
    },
    {
      "cell_type": "code",
      "source": [
        "model.save('mnist_autoencoder.h5')"
      ],
      "metadata": {
        "id": "GVcWABzHpqQf",
        "outputId": "1a5331a4-7766-4dcb-cfc1-c42ed87e5f54",
        "colab": {
          "base_uri": "https://localhost:8080/"
        }
      },
      "execution_count": 92,
      "outputs": [
        {
          "output_type": "stream",
          "name": "stderr",
          "text": [
            "WARNING:absl:You are saving your model as an HDF5 file via `model.save()` or `keras.saving.save_model(model)`. This file format is considered legacy. We recommend using instead the native Keras format, e.g. `model.save('my_model.keras')` or `keras.saving.save_model(model, 'my_model.keras')`. \n"
          ]
        }
      ]
    },
    {
      "cell_type": "code",
      "source": [
        "from google.colab import files\n",
        "files.download('mnist_autoencoder.h5')"
      ],
      "metadata": {
        "id": "y-yOmjYEqFoP",
        "outputId": "5d68a78a-de72-48c1-8c78-6c70d66e11d6",
        "colab": {
          "base_uri": "https://localhost:8080/",
          "height": 17
        }
      },
      "execution_count": 94,
      "outputs": [
        {
          "output_type": "display_data",
          "data": {
            "text/plain": [
              "<IPython.core.display.Javascript object>"
            ],
            "application/javascript": [
              "\n",
              "    async function download(id, filename, size) {\n",
              "      if (!google.colab.kernel.accessAllowed) {\n",
              "        return;\n",
              "      }\n",
              "      const div = document.createElement('div');\n",
              "      const label = document.createElement('label');\n",
              "      label.textContent = `Downloading \"${filename}\": `;\n",
              "      div.appendChild(label);\n",
              "      const progress = document.createElement('progress');\n",
              "      progress.max = size;\n",
              "      div.appendChild(progress);\n",
              "      document.body.appendChild(div);\n",
              "\n",
              "      const buffers = [];\n",
              "      let downloaded = 0;\n",
              "\n",
              "      const channel = await google.colab.kernel.comms.open(id);\n",
              "      // Send a message to notify the kernel that we're ready.\n",
              "      channel.send({})\n",
              "\n",
              "      for await (const message of channel.messages) {\n",
              "        // Send a message to notify the kernel that we're ready.\n",
              "        channel.send({})\n",
              "        if (message.buffers) {\n",
              "          for (const buffer of message.buffers) {\n",
              "            buffers.push(buffer);\n",
              "            downloaded += buffer.byteLength;\n",
              "            progress.value = downloaded;\n",
              "          }\n",
              "        }\n",
              "      }\n",
              "      const blob = new Blob(buffers, {type: 'application/binary'});\n",
              "      const a = document.createElement('a');\n",
              "      a.href = window.URL.createObjectURL(blob);\n",
              "      a.download = filename;\n",
              "      div.appendChild(a);\n",
              "      a.click();\n",
              "      div.remove();\n",
              "    }\n",
              "  "
            ]
          },
          "metadata": {}
        },
        {
          "output_type": "display_data",
          "data": {
            "text/plain": [
              "<IPython.core.display.Javascript object>"
            ],
            "application/javascript": [
              "download(\"download_32f6af94-1d66-46e0-971b-b5c80aaf2833\", \"mnist_autoencoder.h5\", 12407912)"
            ]
          },
          "metadata": {}
        }
      ]
    },
    {
      "cell_type": "code",
      "source": [],
      "metadata": {
        "id": "BNbzObIZqqJ1"
      },
      "execution_count": null,
      "outputs": []
    },
    {
      "cell_type": "code",
      "source": [],
      "metadata": {
        "id": "tI-DmmJjqIyZ"
      },
      "execution_count": null,
      "outputs": []
    },
    {
      "cell_type": "code",
      "source": [],
      "metadata": {
        "id": "PWrfsCsQqgNV"
      },
      "execution_count": null,
      "outputs": []
    }
  ]
}